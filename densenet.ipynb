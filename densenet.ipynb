{
 "cells": [
  {
   "cell_type": "code",
   "execution_count": null,
   "metadata": {},
   "outputs": [],
   "source": [
    "import tf_utils\n",
    "from utils import *\n",
    "\n",
    "from tensorflow_addons.metrics import CohenKappa\n",
    "from tensorflow.keras.models import Model, load_model\n",
    "from tensorflow import keras\n",
    "from tensorflow.keras.layers import Input, Conv2D, MaxPool2D, BatchNormalization, Activation, concatenate, GlobalAveragePooling2D, Dense, ZeroPadding2D, AveragePooling2D\n",
    "\n",
    "from tensorflow.keras.callbacks import EarlyStopping, ModelCheckpoint, CSVLogger\n",
    "from tensorflow.keras.optimizers import Nadam, SGD\n",
    "\n",
    "import tensorflow as tf\n",
    "\n",
    "import math"
   ]
  },
  {
   "cell_type": "code",
   "execution_count": null,
   "metadata": {
    "scrolled": true
   },
   "outputs": [],
   "source": [
    "block_number = 0\n",
    "transition_number = 0\n",
    "K=12 \n",
    "m=0.5\n",
    "\n",
    "def transition_layer(input_block):\n",
    "    global transition_number\n",
    "    \n",
    "    tran_name = 'tran' + str(transition_number) + '_'\n",
    "    \n",
    "    transition_number += 1 \n",
    "    x = BatchNormalization(momentum=bn_momentum, name=tran_name + 'bn_t')(input_block)\n",
    "    x = Activation('relu', name=tran_name + 'activation_t')(x)\n",
    "    x = Conv2D(\n",
    "        filters=int(x.shape[ -1 if keras.backend.image_data_format() == \"channels_last\" else 1 ]*m), \n",
    "        kernel_size=1, \n",
    "        padding='same',\n",
    "        name=tran_name + 'conv_t',\n",
    "        kernel_initializer=initializer\n",
    "    )(x)\n",
    "    x = AveragePooling2D(pool_size = 2, strides = 2)(x)\n",
    "    return x\n",
    "\n",
    "def dense_block(input_block, blocks):    \n",
    "    global block_number\n",
    "    x = input_block\n",
    "    \n",
    "    for b in range(blocks):\n",
    "        block_number += 1\n",
    "        block_name = 'block' + str(block_number) + '_'\n",
    "\n",
    "        y = BatchNormalization(momentum=bn_momentum, name=block_name + 'bn_1')(x)\n",
    "        y = Activation('relu', name=block_name + 'activation_1')(y)\n",
    "        y = Conv2D(\n",
    "            filters=K*4, \n",
    "            kernel_size=1,\n",
    "            padding='same', \n",
    "            name=block_name + 'conv_1',\n",
    "            kernel_initializer=initializer\n",
    "        )(y)\n",
    "\n",
    "        y = BatchNormalization(momentum=bn_momentum, name=block_name + 'bn_2')(y)\n",
    "        y = Activation('relu', name=block_name + 'activation_2')(y)\n",
    "        y = Conv2D(\n",
    "            filters=K, \n",
    "            kernel_size=3, \n",
    "            padding='same', \n",
    "            name=block_name + 'conv_2',\n",
    "            kernel_initializer=initializer\n",
    "        )(y)\n",
    "        \n",
    "        x = concatenate([y, x])\n",
    "    return x\n",
    "\n",
    "bn_momentum = 0.9\n",
    "initializer='he_uniform'\n",
    "\n",
    "input_shape = (320, 320)\n",
    "\n",
    "MODEL_PATHS = data_paths('densenet_2')\n",
    "\n",
    "#mirrored strategy for distributed training\n",
    "mirrored_strategy = tf.distribute.MirroredStrategy()\n",
    "with mirrored_strategy.scope():\n",
    "\n",
    "    input_img = Input(shape=(*input_shape, 1), name='input')\n",
    "\n",
    "    x = ZeroPadding2D(3, name='zero_padding_1')(input_img)\n",
    "    x = BatchNormalization(name='bn_first')(x)\n",
    "    x = Activation('relu', name='activation_first')(x)\n",
    "    x = Conv2D(filters=64, kernel_size=7, strides=2, name='conv_first', kernel_initializer=initializer)(x)\n",
    "\n",
    "    x = ZeroPadding2D(1, name='zero_padding_2')(x)\n",
    "    x = MaxPool2D(3, strides=2, name='max_pooling')(x)\n",
    "    x = BatchNormalization(name='bn_first_pool')(x)\n",
    "    x = Activation('relu', name='activation_first_pool')(x)\n",
    "\n",
    "    #[6, 12, 32, 32]\n",
    "    x = dense_block(x, 6)\n",
    "    x = transition_layer(x)\n",
    "    x = dense_block(x, 12)\n",
    "    x = transition_layer(x)\n",
    "    x = dense_block(x, 32)\n",
    "    x = transition_layer(x)\n",
    "    x = dense_block(x, 32)\n",
    "\n",
    "    x = BatchNormalization(name='bn_last')(x)\n",
    "    x = Activation('relu', name='activation_last')(x)\n",
    "\n",
    "    x = GlobalAveragePooling2D(name='GAP')(x)\n",
    "    output = Dense(1, activation='sigmoid', name='output')(x)\n",
    "\n",
    "    model = Model(inputs=[input_img], outputs=[output])\n",
    "\n",
    "    optimizer = SGD(learning_rate=1e-2, momentum=0.9)\n",
    "\n",
    "    model.compile(\n",
    "        optimizer=optimizer,\n",
    "        metrics=[CohenKappa(num_classes=2), 'accuracy'],\n",
    "        loss='binary_crossentropy',\n",
    "    )"
   ]
  },
  {
   "cell_type": "code",
   "execution_count": null,
   "metadata": {
    "scrolled": true
   },
   "outputs": [],
   "source": [
    "model.summary()"
   ]
  },
  {
   "cell_type": "code",
   "execution_count": null,
   "metadata": {},
   "outputs": [],
   "source": [
    "set_note(MODEL_PATHS, \n",
    "        'DenseNet-169, input shape 320, aug 2, vaug 1, SGD 0.01, decay 0.95 every 10 e, mom 0.9 with lrs, bn_m 0.9, batch size 64, mirrored',\n",
    "         summary_append=model\n",
    "        )\n",
    "\n",
    "model.save(MODEL_PATHS['init'])\n",
    "print('Created: ' + MODEL_PATHS['init'])"
   ]
  },
  {
   "cell_type": "code",
   "execution_count": null,
   "metadata": {
    "scrolled": true
   },
   "outputs": [],
   "source": [
    "from tensorflow.keras.utils import plot_model\n",
    "plot_model(model, show_shapes=True)"
   ]
  }
 ],
 "metadata": {
  "kernelspec": {
   "display_name": "Python 3",
   "language": "python",
   "name": "python3"
  },
  "language_info": {
   "codemirror_mode": {
    "name": "ipython",
    "version": 3
   },
   "file_extension": ".py",
   "mimetype": "text/x-python",
   "name": "python",
   "nbconvert_exporter": "python",
   "pygments_lexer": "ipython3",
   "version": "3.7.6"
  }
 },
 "nbformat": 4,
 "nbformat_minor": 2
}
