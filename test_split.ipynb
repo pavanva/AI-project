{
 "cells": [
  {
   "cell_type": "markdown",
   "metadata": {},
   "source": [
    "# Script used for splitting training dataset into a new test and train"
   ]
  },
  {
   "cell_type": "code",
   "execution_count": null,
   "metadata": {},
   "outputs": [],
   "source": [
    "from utils import *\n",
    "import pandas as pd\n",
    "import os"
   ]
  },
  {
   "cell_type": "code",
   "execution_count": null,
   "metadata": {},
   "outputs": [],
   "source": [
    "data = load_data_from_csv(SetType.TRAIN)\n",
    "\n",
    "studies = data.groupby(by=['label', 'xr_type', 'study_id']).count()\n",
    "groups = studies.groupby(by=['label', 'xr_type']).count()['image_num']"
   ]
  },
  {
   "cell_type": "code",
   "execution_count": null,
   "metadata": {},
   "outputs": [],
   "source": [
    "studies_count = groups.sum()\n",
    "studies_to_select = 200\n",
    "groups = groups.apply(lambda x: round((x / studies_count) * studies_to_select))\n",
    "l = []\n",
    "studies['test'] = False\n",
    "for i, v in groups.items():\n",
    "    a = studies.loc[i[0], i[1], :].sample(int(v))\n",
    "    for j in a.index.get_level_values(2):\n",
    "        l.append(j)"
   ]
  },
  {
   "cell_type": "code",
   "execution_count": null,
   "metadata": {},
   "outputs": [],
   "source": [
    "test = pd.DataFrame(l)\n",
    "test.to_csv(os.path.join(DATA_FOLDER, 'test_studies.csv'), header=False, index=False)"
   ]
  }
 ],
 "metadata": {
  "kernelspec": {
   "display_name": "Python 3",
   "language": "python",
   "name": "python3"
  },
  "language_info": {
   "codemirror_mode": {
    "name": "ipython",
    "version": 3
   },
   "file_extension": ".py",
   "mimetype": "text/x-python",
   "name": "python",
   "nbconvert_exporter": "python",
   "pygments_lexer": "ipython3",
   "version": "3.7.6"
  }
 },
 "nbformat": 4,
 "nbformat_minor": 4
}
