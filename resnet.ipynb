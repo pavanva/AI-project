{
 "cells": [
  {
   "cell_type": "code",
   "execution_count": null,
   "metadata": {},
   "outputs": [],
   "source": [
    "import sys\n",
    "\n",
    "import tensorflow as tf\n",
    "import tf_utils\n",
    "from tensorflow_addons.metrics import CohenKappa\n",
    "from tensorflow.keras.models import Model, load_model\n",
    "from utils import *\n",
    "from padding_generator import generator1\n",
    "from tensorflow import keras\n",
    "from tensorflow.keras.layers import Input, Conv2D, MaxPool2D, BatchNormalization, Activation, add, GlobalAveragePooling2D, Dense, ZeroPadding2D, GaussianNoise\n",
    "\n",
    "from tensorflow.keras.callbacks import EarlyStopping, ModelCheckpoint, CSVLogger\n",
    "from tensorflow.keras.optimizers import SGD, Nadam\n",
    "from tensorflow.keras.optimizers.schedules import ExponentialDecay\n",
    "from res_gen import ResBlockGen\n",
    "\n",
    "import math"
   ]
  },
  {
   "cell_type": "code",
   "execution_count": null,
   "metadata": {
    "scrolled": false
   },
   "outputs": [],
   "source": [
    "MODEL_PATHS = data_paths('resnet_34')\n",
    "\n",
    "input_shape = (224, 224)\n",
    "\n",
    "bn_momentum = 0.1\n",
    "initializer = 'he_uniform'\n",
    "\n",
    "block = ResBlockGen(bn_momentum, initializer).full_preactivation_res_block\n",
    "\n",
    "#mirrored strategy for distributed training\n",
    "mirrored_strategy = tf.distribute.MirroredStrategy()\n",
    "with mirrored_strategy.scope():\n",
    "    input_img = Input(shape=(*input_shape, 1), name='input')\n",
    "    \n",
    "    x = ZeroPadding2D(3, name='zero_padding_1')(input_img)\n",
    "    x = Conv2D(filters=64, kernel_size=7, strides=2, name='conv_first', kernel_initializer=initializer)(x)\n",
    "    x = BatchNormalization(name='bn_first', momentum=bn_momentum)(x)\n",
    "    x = Activation('relu', name='activation_first')(x)\n",
    "\n",
    "    x = ZeroPadding2D(1, name='zero_padding_2')(x)\n",
    "    x = MaxPool2D(3, strides=2, name='max_pooling')(x)\n",
    "\n",
    "    x = block(x, 64, 1, True)\n",
    "    x = block(x, 64, 1)\n",
    "    x = block(x, 64, 1)\n",
    "    x = block(x, 128, 2)\n",
    "    x = block(x, 128, 1)\n",
    "    x = block(x, 128, 1)\n",
    "    x = block(x, 128, 1)\n",
    "    x = block(x, 256, 2)\n",
    "    for i in range(5):\n",
    "        x = block(x, 256, 1)\n",
    "    x = block(x, 512, 2)\n",
    "    x = block(x, 512, 1)\n",
    "    x = block(x, 512, 1)\n",
    "\n",
    "    x = Activation('relu', name='activation_last')(x)\n",
    "    x = GlobalAveragePooling2D(name='GAP')(x)\n",
    "    output = Dense(1, activation='sigmoid', name='output')(x)\n",
    "\n",
    "    model = Model(inputs=[input_img], outputs=[output])\n",
    "\n",
    "    optimizer = Nadam(learning_rate=1e-4)\n",
    "    #optimizer = SGD(learning_rate=0.1, momentum=0.9)\n",
    "\n",
    "    model.compile(\n",
    "        optimizer=optimizer,\n",
    "        metrics=[CohenKappa(num_classes=2), 'accuracy'],\n",
    "        loss='binary_crossentropy',\n",
    "    )"
   ]
  },
  {
   "cell_type": "code",
   "execution_count": null,
   "metadata": {
    "scrolled": true
   },
   "outputs": [],
   "source": [
    "model.summary()"
   ]
  },
  {
   "cell_type": "code",
   "execution_count": null,
   "metadata": {},
   "outputs": [],
   "source": [
    "set_note(MODEL_PATHS, \n",
    "        'Resnet-34, input shape 224, aug 1, Nadam 1e-4, bn_m 0.1, full preactivation, batch size 64, CW, mirrored',\n",
    "         summary_append=model\n",
    "        )\n",
    "\n",
    "model.save(MODEL_PATHS['init'])\n",
    "print('Created: ' + MODEL_PATHS['init'])"
   ]
  },
  {
   "cell_type": "code",
   "execution_count": null,
   "metadata": {
    "scrolled": true
   },
   "outputs": [],
   "source": [
    "from tensorflow.keras.utils import plot_model\n",
    "plot_model(model, show_shapes=True)"
   ]
  }
 ],
 "metadata": {
  "kernelspec": {
   "display_name": "Python 3",
   "language": "python",
   "name": "python3"
  },
  "language_info": {
   "codemirror_mode": {
    "name": "ipython",
    "version": 3
   },
   "file_extension": ".py",
   "mimetype": "text/x-python",
   "name": "python",
   "nbconvert_exporter": "python",
   "pygments_lexer": "ipython3",
   "version": "3.7.6"
  }
 },
 "nbformat": 4,
 "nbformat_minor": 4
}
