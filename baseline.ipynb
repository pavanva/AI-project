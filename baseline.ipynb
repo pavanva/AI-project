{
 "cells": [
  {
   "cell_type": "code",
   "execution_count": null,
   "metadata": {},
   "outputs": [],
   "source": [
    "import sys\n",
    "\n",
    "import tensorflow as tf\n",
    "import tf_utils\n",
    "from tensorflow_addons.metrics import CohenKappa\n",
    "from tensorflow.keras.models import Model, load_model\n",
    "from utils import *\n",
    "from padding_generator import generator1\n",
    "from tensorflow import keras\n",
    "from tensorflow.keras.layers import Input, Conv2D, MaxPool2D, Activation, GlobalAveragePooling2D, Dense, ZeroPadding2D, Dropout\n",
    "\n",
    "from tensorflow.keras.callbacks import EarlyStopping, ModelCheckpoint, CSVLogger\n",
    "from tensorflow.keras.optimizers import SGD, Nadam\n",
    "\n",
    "import math"
   ]
  },
  {
   "cell_type": "code",
   "execution_count": null,
   "metadata": {},
   "outputs": [],
   "source": [
    "MODEL_PATHS = data_paths('baseline')\n",
    "\n",
    "input_shape = (224, 224)\n",
    "\n",
    "input_img = Input(shape=(*input_shape, 1), name='input')\n",
    "\n",
    "x = ZeroPadding2D(3)(input_img)\n",
    "x = Conv2D(filters=64, kernel_size=7, strides=2, activation='relu')(x)\n",
    "x = ZeroPadding2D(1)(x)\n",
    "x = MaxPool2D(3, strides=2)(x)\n",
    "\n",
    "x = Conv2D(filters=128, kernel_size=3, activation='relu', padding='same')(x)\n",
    "x = Dropout(0.3)(x)\n",
    "x = Conv2D(filters=128, kernel_size=3, activation='relu', padding='same')(x)\n",
    "x = Dropout(0.3)(x)\n",
    "x = MaxPool2D(2)(x)\n",
    "\n",
    "x = Conv2D(filters=256, kernel_size=3, activation='relu', padding='same')(x)\n",
    "x = Dropout(0.4)(x)\n",
    "x = Conv2D(filters=256, kernel_size=3, activation='relu', padding='same')(x)\n",
    "x = Dropout(0.4)(x)\n",
    "x = MaxPool2D(2)(x)\n",
    "\n",
    "x = Conv2D(filters=512, kernel_size=3, activation='relu', padding='same')(x)\n",
    "\n",
    "x = GlobalAveragePooling2D(name='GAP')(x)\n",
    "x = Dropout(0.5)(x)\n",
    "x = Dense(1000, activation='relu')(x)\n",
    "x = Dropout(0.3)(x)\n",
    "output = Dense(1, activation='sigmoid')(x)\n",
    "\n",
    "model = Model(inputs=[input_img], outputs=[output])\n",
    "\n",
    "optimizer = Nadam(learning_rate=1e-4)\n",
    "\n",
    "model.compile(\n",
    "    optimizer=optimizer,\n",
    "    metrics=[CohenKappa(num_classes=2), 'accuracy'],\n",
    "    loss='binary_crossentropy',\n",
    ")"
   ]
  },
  {
   "cell_type": "code",
   "execution_count": null,
   "metadata": {
    "scrolled": true
   },
   "outputs": [],
   "source": [
    "model.summary()"
   ]
  },
  {
   "cell_type": "code",
   "execution_count": null,
   "metadata": {},
   "outputs": [],
   "source": [
    "set_note(MODEL_PATHS, \n",
    "        'Baseline model',\n",
    "         summary_append=model\n",
    "        )\n",
    "\n",
    "model.save(MODEL_PATHS['init'])\n",
    "print('Created: ' + MODEL_PATHS['init'])"
   ]
  },
  {
   "cell_type": "code",
   "execution_count": null,
   "metadata": {},
   "outputs": [],
   "source": [
    "from tensorflow.keras.utils import plot_model\n",
    "plot_model(model, show_shapes=True)"
   ]
  }
 ],
 "metadata": {
  "kernelspec": {
   "display_name": "Python 3",
   "language": "python",
   "name": "python3"
  }
 },
 "nbformat": 4,
 "nbformat_minor": 4
}
