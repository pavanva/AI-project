{
 "cells": [
  {
   "cell_type": "markdown",
   "metadata": {},
   "source": [
    "# Compare models"
   ]
  },
  {
   "cell_type": "code",
   "execution_count": null,
   "metadata": {},
   "outputs": [],
   "source": [
    "import sys\n",
    "\n",
    "from utils import *\n",
    "from visual_utils import *\n",
    "\n",
    "from padding_generator import generators\n",
    "\n",
    "from tensorflow.keras.models import load_model\n",
    "from tensorflow.keras.utils import plot_model\n",
    "\n",
    "import matplotlib.pyplot as plt\n",
    "import pandas as pd\n",
    "import math\n",
    "\n",
    "import os\n",
    "import glob\n",
    "\n",
    "pd.set_option('display.max_colwidth', -1)"
   ]
  },
  {
   "cell_type": "markdown",
   "metadata": {},
   "source": [
    "Display available trainned models"
   ]
  },
  {
   "cell_type": "code",
   "execution_count": null,
   "metadata": {
    "scrolled": false
   },
   "outputs": [],
   "source": [
    "available_models()"
   ]
  },
  {
   "cell_type": "markdown",
   "metadata": {},
   "source": [
    "Select models to compare"
   ]
  },
  {
   "cell_type": "code",
   "execution_count": null,
   "metadata": {},
   "outputs": [],
   "source": [
    "model_names = [\n",
    "    'baseline',\n",
    "    'resnet_34',\n",
    "    'densenet_2',\n",
    "    'resnet_101_lds',\n",
    "]\n",
    "\n",
    "PATHS = [data_paths(p, create_if_missing=False) for p in model_names]"
   ]
  },
  {
   "cell_type": "markdown",
   "metadata": {},
   "source": [
    "Load models and evaluate them. Be aware of selecting too many models and/or too big batch size can lead to problem with insuficcient memory"
   ]
  },
  {
   "cell_type": "code",
   "execution_count": null,
   "metadata": {
    "scrolled": true
   },
   "outputs": [],
   "source": [
    "batch_size = 64 #reduce if the memory is insufficient\n",
    "\n",
    "results = []\n",
    "\n",
    "set_type = SetType.TEST # TRAIN, VALID, TEST\n",
    "\n",
    "# Generator codes: \n",
    "# b - no augmentation\n",
    "# 1 - Modest aug\n",
    "# 2 - Strong aug\n",
    "# \n",
    "# suffix e for equalization, eg: 1e\n",
    "# suffix g for gauss noise, eg: 2g\n",
    "gen_code = 'b'\n",
    "gen = generators[gen_code]\n",
    "\n",
    "for model_name in model_names:\n",
    "    print('Evaluating ' + model_name)\n",
    "    \n",
    "    model = load_model(data_paths(model_name)['best'], compile=True)\n",
    "    e = study_eval(model, set_type, batch_size = batch_size, generator = gen)\n",
    "    \n",
    "    results.append(e)\n",
    "    \n",
    "res_df = pd.DataFrame(results, columns = ['ind_accuracy', 'ind_cohen_kappa', 'study_accuracy', 'study_cohen_kappa'])\n",
    "\n",
    "display(res_df)"
   ]
  },
  {
   "cell_type": "markdown",
   "metadata": {},
   "source": [
    "Display learning graphs"
   ]
  },
  {
   "cell_type": "code",
   "execution_count": null,
   "metadata": {},
   "outputs": [],
   "source": [
    "metrics = [\n",
    "    'cohen_kappa',\n",
    "    #'accuracy'\n",
    "]\n",
    "fig, axes = plt.subplots(1, len(metrics))\n",
    "fig.set_size_inches(14, 6)\n",
    "\n",
    "colors = \"brgcmykk\"\n",
    "\n",
    "for p in range(len(PATHS)):\n",
    "    data=get_log(PATHS[p])\n",
    "    model_name=model_names[p]\n",
    "    \n",
    "    for metric, ax in zip(metrics, axes if len(metrics) > 1 else [axes]):\n",
    "        ax.set_title(metric)\n",
    "        ax.set_ylabel(metric)\n",
    "        ax.set_xlabel('Epoch')\n",
    "        \n",
    "        ax.scatter(data.index[1:], data[metric][1:], label= model_name + ' train', c = colors[p], s = 1)\n",
    "        ax.plot(data.index[1:], data['val_'+metric][1:], label= model_name + ' validation', c = colors[p])\n",
    "        ax.legend();\n",
    "        "
   ]
  }
 ],
 "metadata": {
  "kernelspec": {
   "display_name": "Python 3",
   "language": "python",
   "name": "python3"
  },
  "language_info": {
   "codemirror_mode": {
    "name": "ipython",
    "version": 3
   },
   "file_extension": ".py",
   "mimetype": "text/x-python",
   "name": "python",
   "nbconvert_exporter": "python",
   "pygments_lexer": "ipython3",
   "version": "3.7.6"
  }
 },
 "nbformat": 4,
 "nbformat_minor": 4
}
