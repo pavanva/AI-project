{
 "cells": [
  {
   "cell_type": "markdown",
   "metadata": {},
   "source": [
    "# Overview of HP search for resnet"
   ]
  },
  {
   "cell_type": "code",
   "execution_count": null,
   "metadata": {
    "scrolled": false
   },
   "outputs": [],
   "source": [
    "from utils import *\n",
    "\n",
    "import numpy as np\n",
    "import pandas as pd\n",
    "import matplotlib\n",
    "import matplotlib.pyplot as plt\n",
    "import json\n",
    "import glob\n",
    "\n",
    "from os.path import join\n",
    "pd.options.display.max_rows = 150"
   ]
  },
  {
   "cell_type": "markdown",
   "metadata": {},
   "source": [
    "Process logs from HPsearch"
   ]
  },
  {
   "cell_type": "code",
   "execution_count": null,
   "metadata": {
    "scrolled": false
   },
   "outputs": [],
   "source": [
    "PROJECT_NAME = 'resnet_hp'\n",
    "PROJECT_DIR = join(MODEL_FOLDER, PROJECT_NAME)\n",
    "\n",
    "def split_df(df):\n",
    "    frames = []\n",
    "    last_split = 0\n",
    "    last_epoch = 0\n",
    "    for index, row in df.iterrows():\n",
    "        if row['epoch'] < last_epoch:\n",
    "            frames.append(df[last_split:index])\n",
    "            last_split = index\n",
    "            last_epoch = 0\n",
    "        last_epoch = row['epoch']\n",
    "            \n",
    "    frames.append(df[last_split:index+1])\n",
    "    return frames\n",
    "\n",
    "def avg_change(df, metric):\n",
    "    data = df.reset_index()\n",
    "    diff = 0\n",
    "    diffs = len(data[metric]) - 1\n",
    "    for i in range(diffs):\n",
    "        diff += abs(data[metric][i] - data[metric][i+1])\n",
    "    \n",
    "    return abs(diff - data[metric].max()) / diffs\n",
    "\n",
    "trials = dict()\n",
    "logs = dict()\n",
    "l=[]\n",
    "config_paths = glob.glob(join(PROJECT_DIR, 'trial_*_config.json'))\n",
    "log_paths = glob.glob(join(PROJECT_DIR, 'trial_*_log.csv'))\n",
    "\n",
    "for config_path in config_paths:\n",
    "    trial_id = config_path.split('_')[-2]\n",
    "    with open(config_path, 'r') as f:\n",
    "        config = json.loads(f.read().replace(\"'\", '\"').replace('True', 'true').replace('False', 'false'))\n",
    "        trials[trial_id] = config\n",
    "for log_path in log_paths:\n",
    "    trial_id = log_path.split('_')[-2]\n",
    "    df = pd.read_csv(log_path)\n",
    "    m=df['val_cohen_kappa'].max()\n",
    "    av = 0\n",
    "    av_diff = 0\n",
    "    sp = split_df(df)\n",
    "    for frame in sp:\n",
    "        av += frame['val_cohen_kappa'].max()\n",
    "        av_diff = avg_change(frame, 'val_cohen_kappa')\n",
    "    av = av / len(sp)\n",
    "    av_diff = av_diff / len(sp)\n",
    "    \n",
    "    logs[trial_id] = [len(df.index)/3, av, av_diff]\n",
    "\n",
    "columns = ['trial_id', 'avg_epochs', 'avg_max_score', 'avg_diff', *trials[trial_id]['values'].keys()]\n",
    "for key, value in trials.items():\n",
    "    l.append([key, *logs[key], *value['values'].values()])\n",
    "    \n",
    "data = pd.DataFrame(l, columns=columns)\n",
    "data = data.drop(columns=['opt_beta_1', 'opt_beta_2', 'opt_epsilon', 'bn_momentum'])\\\n",
    ".sort_values(by=['opt_learning_rate', 'batch_size'], ascending=False)\n",
    "grouped = data.groupby(by=['batch_size', 'opt_learning_rate']).mean()"
   ]
  },
  {
   "cell_type": "markdown",
   "metadata": {},
   "source": [
    "Display results. Avg_diff represents how much is learning curve \"unstable\""
   ]
  },
  {
   "cell_type": "code",
   "execution_count": null,
   "metadata": {
    "scrolled": false
   },
   "outputs": [],
   "source": [
    "grouped "
   ]
  },
  {
   "cell_type": "code",
   "execution_count": null,
   "metadata": {
    "scrolled": false
   },
   "outputs": [],
   "source": [
    "import seaborn as sns\n",
    "%matplotlib inline\n",
    "\n",
    "bs= [32, 64, 128, 256]\n",
    "lr = [0.1, 0.01, 0.001, 0.0001]\n",
    "lrs = ['0.1', '0.01', '1e-3', '1e-4']\n",
    "arr = np.zeros((4, 4))\n",
    "\n",
    "for i in range(4):\n",
    "    for j in range(4):\n",
    "         arr[i, j] = grouped.loc[bs[i], lr[j]]['avg_max_score']\n",
    "\n",
    "sns.set(font_scale=1.4)\n",
    "ax = sns.heatmap(arr.transpose(), xticklabels=bs, yticklabels=lrs, annot=True)\n",
    "ax.set(xlabel='Batch size', ylabel='Learning rate')"
   ]
  }
 ],
 "metadata": {
  "kernelspec": {
   "display_name": "Python 3",
   "language": "python",
   "name": "python3"
  },
  "language_info": {
   "codemirror_mode": {
    "name": "ipython",
    "version": 3
   },
   "file_extension": ".py",
   "mimetype": "text/x-python",
   "name": "python",
   "nbconvert_exporter": "python",
   "pygments_lexer": "ipython3",
   "version": "3.7.3"
  }
 },
 "nbformat": 4,
 "nbformat_minor": 4
}
